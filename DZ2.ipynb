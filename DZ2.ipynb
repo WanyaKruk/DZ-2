{
  "nbformat": 4,
  "nbformat_minor": 0,
  "metadata": {
    "colab": {
      "provenance": [],
      "authorship_tag": "ABX9TyP14l6qSXCxINTfflt7pAnW",
      "include_colab_link": true
    },
    "kernelspec": {
      "name": "python3",
      "display_name": "Python 3"
    },
    "language_info": {
      "name": "python"
    }
  },
  "cells": [
    {
      "cell_type": "markdown",
      "metadata": {
        "id": "view-in-github",
        "colab_type": "text"
      },
      "source": [
        "<a href=\"https://colab.research.google.com/github/WanyaKruk/DZ-2/blob/main/DZ2.ipynb\" target=\"_parent\"><img src=\"https://colab.research.google.com/assets/colab-badge.svg\" alt=\"Open In Colab\"/></a>"
      ]
    },
    {
      "cell_type": "code",
      "execution_count": null,
      "metadata": {
        "id": "SslvhT2WQ-nm"
      },
      "outputs": [],
      "source": [
        "#Создание модуля data_loader и загрузка базы"
      ]
    },
    {
      "cell_type": "code",
      "source": [
        "dl"
      ],
      "metadata": {
        "colab": {
          "base_uri": "https://localhost:8080/"
        },
        "id": "KlSJXMJFBVBJ",
        "outputId": "2f0c53c8-776b-46be-b390-693ee737d1cb"
      },
      "execution_count": 45,
      "outputs": [
        {
          "output_type": "execute_result",
          "data": {
            "text/plain": [
              "<module 'data_loader' from '/content/data_loader.py'>"
            ]
          },
          "metadata": {},
          "execution_count": 45
        }
      ]
    },
    {
      "cell_type": "code",
      "source": [
        "import data_loader as dl\n",
        "\n",
        "file_path =  'data6.3.2.csv'\n",
        "print (\"Загружен файл: \", file_path)"
      ],
      "metadata": {
        "id": "JxDCXeWWSlHL",
        "colab": {
          "base_uri": "https://localhost:8080/"
        },
        "outputId": "f9560f66-3f7e-4833-a1cd-ee60008e88d7"
      },
      "execution_count": 42,
      "outputs": [
        {
          "output_type": "stream",
          "name": "stdout",
          "text": [
            "Загружен файл:  data6.3.2.csv\n"
          ]
        }
      ]
    }
  ]
}