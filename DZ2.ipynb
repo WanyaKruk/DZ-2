{
  "nbformat": 4,
  "nbformat_minor": 0,
  "metadata": {
    "colab": {
      "provenance": [],
      "mount_file_id": "1xbWhbGwU7Jh4cb58dfxSkUe67M5bSZ_K",
      "authorship_tag": "ABX9TyP2omP3bPpf2QUCJHF98jOz",
      "include_colab_link": true
    },
    "kernelspec": {
      "name": "python3",
      "display_name": "Python 3"
    },
    "language_info": {
      "name": "python"
    }
  },
  "cells": [
    {
      "cell_type": "markdown",
      "metadata": {
        "id": "view-in-github",
        "colab_type": "text"
      },
      "source": [
        "<a href=\"https://colab.research.google.com/github/WanyaKruk/DZ-2/blob/main/DZ2.ipynb\" target=\"_parent\"><img src=\"https://colab.research.google.com/assets/colab-badge.svg\" alt=\"Open In Colab\"/></a>"
      ]
    },
    {
      "cell_type": "code",
      "execution_count": null,
      "metadata": {
        "id": "SslvhT2WQ-nm"
      },
      "outputs": [],
      "source": [
        "#Создание модуля data_loader и загрузка базы"
      ]
    },
    {
      "cell_type": "code",
      "source": [
        "dl"
      ],
      "metadata": {
        "colab": {
          "base_uri": "https://localhost:8080/"
        },
        "id": "KlSJXMJFBVBJ",
        "outputId": "6bc6c593-5c23-47a2-da6f-6002ee276289"
      },
      "execution_count": null,
      "outputs": [
        {
          "output_type": "execute_result",
          "data": {
            "text/plain": [
              "<module 'data_loader' from '/content/data_loader.py'>"
            ]
          },
          "metadata": {},
          "execution_count": 39
        }
      ]
    },
    {
      "cell_type": "code",
      "source": [
        "import data_loader as dl\n",
        "import visualization\n",
        "file_path = 'charging_data.csv'\n",
        "data = file_path\n"
      ],
      "metadata": {
        "id": "JxDCXeWWSlHL"
      },
      "execution_count": 56,
      "outputs": []
    }
  ]
}