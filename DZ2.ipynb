{
  "nbformat": 4,
  "nbformat_minor": 0,
  "metadata": {
    "colab": {
      "provenance": [],
      "mount_file_id": "1xbWhbGwU7Jh4cb58dfxSkUe67M5bSZ_K",
      "authorship_tag": "ABX9TyNPTHXL5p9vdIoFC981CJbz",
      "include_colab_link": true
    },
    "kernelspec": {
      "name": "python3",
      "display_name": "Python 3"
    },
    "language_info": {
      "name": "python"
    }
  },
  "cells": [
    {
      "cell_type": "markdown",
      "metadata": {
        "id": "view-in-github",
        "colab_type": "text"
      },
      "source": [
        "<a href=\"https://colab.research.google.com/github/WanyaKruk/DZ-2/blob/main/DZ2.ipynb\" target=\"_parent\"><img src=\"https://colab.research.google.com/assets/colab-badge.svg\" alt=\"Open In Colab\"/></a>"
      ]
    },
    {
      "cell_type": "code",
      "execution_count": 220,
      "metadata": {
        "id": "SslvhT2WQ-nm"
      },
      "outputs": [],
      "source": [
        "#Создание модуля data_loader и загрузка базы"
      ]
    },
    {
      "cell_type": "code",
      "source": [
        "dl"
      ],
      "metadata": {
        "colab": {
          "base_uri": "https://localhost:8080/"
        },
        "id": "KlSJXMJFBVBJ",
        "outputId": "b7057727-c2d3-4fa5-d9d0-ffbcf852b488"
      },
      "execution_count": 221,
      "outputs": [
        {
          "output_type": "execute_result",
          "data": {
            "text/plain": [
              "<module 'data_loader' from '/content/data_loader.py'>"
            ]
          },
          "metadata": {},
          "execution_count": 221
        }
      ]
    },
    {
      "cell_type": "code",
      "source": [
        "import data_loader as dl\n",
        "\n",
        "file_path = 'charging_data.csv'\n",
        "print (\"Загружен файл: \", file_path)\n"
      ],
      "metadata": {
        "id": "JxDCXeWWSlHL",
        "colab": {
          "base_uri": "https://localhost:8080/"
        },
        "outputId": "8a72ba7a-1f0e-4406-c836-38687ebdd177"
      },
      "execution_count": 237,
      "outputs": [
        {
          "output_type": "stream",
          "name": "stdout",
          "text": [
            "Загружен файл:  charging_data.csv\n"
          ]
        }
      ]
    },
    {
      "cell_type": "code",
      "source": [],
      "metadata": {
        "id": "0-4gG5juKK_c"
      },
      "execution_count": 237,
      "outputs": []
    }
  ]
}