{
  "nbformat": 4,
  "nbformat_minor": 0,
  "metadata": {
    "colab": {
      "provenance": [],
      "mount_file_id": "1xbWhbGwU7Jh4cb58dfxSkUe67M5bSZ_K",
      "authorship_tag": "ABX9TyPfHJZQtURCpoDhtxsRW1d4",
      "include_colab_link": true
    },
    "kernelspec": {
      "name": "python3",
      "display_name": "Python 3"
    },
    "language_info": {
      "name": "python"
    }
  },
  "cells": [
    {
      "cell_type": "markdown",
      "metadata": {
        "id": "view-in-github",
        "colab_type": "text"
      },
      "source": [
        "<a href=\"https://colab.research.google.com/github/WanyaKruk/DZ-2/blob/main/DZ2.ipynb\" target=\"_parent\"><img src=\"https://colab.research.google.com/assets/colab-badge.svg\" alt=\"Open In Colab\"/></a>"
      ]
    },
    {
      "cell_type": "code",
      "execution_count": null,
      "metadata": {
        "id": "SslvhT2WQ-nm"
      },
      "outputs": [],
      "source": [
        "#Создание модуля data_loader и загрузка базы"
      ]
    },
    {
      "cell_type": "code",
      "source": [
        "from data_loader import DataLoader\n",
        "from visualization import Visualization\n",
        "from empty_cell import FindEmptyCell\n",
        "file_path = 'data_from_ivan_encoded.csv'\n",
        "data = DataLoader()\n"
      ],
      "metadata": {
        "id": "JxDCXeWWSlHL"
      },
      "execution_count": 6,
      "outputs": []
    }
  ]
}