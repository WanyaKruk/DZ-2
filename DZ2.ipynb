{
  "nbformat": 4,
  "nbformat_minor": 0,
  "metadata": {
    "colab": {
      "provenance": [],
      "mount_file_id": "1xbWhbGwU7Jh4cb58dfxSkUe67M5bSZ_K",
      "authorship_tag": "ABX9TyNdGQBdINfiocfooORK+PnL",
      "include_colab_link": true
    },
    "kernelspec": {
      "name": "python3",
      "display_name": "Python 3"
    },
    "language_info": {
      "name": "python"
    }
  },
  "cells": [
    {
      "cell_type": "markdown",
      "metadata": {
        "id": "view-in-github",
        "colab_type": "text"
      },
      "source": [
        "<a href=\"https://colab.research.google.com/github/WanyaKruk/DZ-2/blob/main/DZ2.ipynb\" target=\"_parent\"><img src=\"https://colab.research.google.com/assets/colab-badge.svg\" alt=\"Open In Colab\"/></a>"
      ]
    },
    {
      "cell_type": "code",
      "execution_count": 184,
      "metadata": {
        "id": "SslvhT2WQ-nm"
      },
      "outputs": [],
      "source": [
        "#Создание модуля data_loader и загрузка базы"
      ]
    },
    {
      "cell_type": "code",
      "source": [
        "dl"
      ],
      "metadata": {
        "colab": {
          "base_uri": "https://localhost:8080/"
        },
        "id": "KlSJXMJFBVBJ",
        "outputId": "54b6646e-d24a-4d62-fa0c-30fd298ab8f8"
      },
      "execution_count": 196,
      "outputs": [
        {
          "output_type": "execute_result",
          "data": {
            "text/plain": [
              "<module 'data_loader' from '/content/data_loader.py'>"
            ]
          },
          "metadata": {},
          "execution_count": 196
        }
      ]
    },
    {
      "cell_type": "code",
      "source": [
        "import data_loader as dl\n",
        "\n",
        "file_path = 'charging_data.csv'\n",
        "print (\"Загружен файл: \", file_path)\n"
      ],
      "metadata": {
        "id": "JxDCXeWWSlHL",
        "colab": {
          "base_uri": "https://localhost:8080/"
        },
        "outputId": "22ad8e1a-e03c-45d0-cc7e-07b39592ba24"
      },
      "execution_count": 197,
      "outputs": [
        {
          "output_type": "stream",
          "name": "stdout",
          "text": [
            "Загружен файл:  charging_data.csv\n"
          ]
        }
      ]
    },
    {
      "cell_type": "code",
      "source": [
        "dl.load_data"
      ],
      "metadata": {
        "colab": {
          "base_uri": "https://localhost:8080/"
        },
        "id": "0-4gG5juKK_c",
        "outputId": "8961f7cf-8b9a-44b1-d9de-194d07ea5140"
      },
      "execution_count": 198,
      "outputs": [
        {
          "output_type": "execute_result",
          "data": {
            "text/plain": [
              "<function data_loader.load_data(file_path)>"
            ]
          },
          "metadata": {},
          "execution_count": 198
        }
      ]
    }
  ]
}